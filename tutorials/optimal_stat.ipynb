{
 "cells": [
  {
   "cell_type": "markdown",
   "metadata": {},
   "source": [
    "# Computing the optimal statistic with `enterprise_extensions`\n",
    "\n",
    "In this notebook you will learn how to compute the optimal statistic (OS). The optimal statistic is a frequentist detection statistic for the stochastic background. It assesses the significance of the cross-correlations and compares them to the Hellings-Downs curve.\n",
    "\n",
    "For more information, see [Anholm et al. 2009](https://arxiv.org/abs/0809.0701), [Demorest et al. 2013](https://arxiv.org/abs/1201.6641), [Chamberlin et al. 2015](https://arxiv.org/abs/1410.8256), [Vigeland et al. 2018](https://arxiv.org/abs/1805.12188), [Sardesei et al. 2023](https://arxiv.org/abs/2303.09615).\n",
    "\n",
    "The OS is derived under the assumption of the low-SNR regime on the GWB. This works well as a detection statistic, because we work under the null hypothesis that $\\hat{A}_\\text{gw}^2 = 0$"
   ]
  },
  {
   "cell_type": "code",
   "execution_count": null,
   "metadata": {},
   "outputs": [],
   "source": [
    "%load_ext autoreload\n",
    "%autoreload 2\n",
    "%matplotlib widget\n",
    "\n",
    "import numpy as np\n",
    "import glob, json, sys\n",
    "import matplotlib.pyplot as plt\n",
    "\n",
    "from enterprise_extensions import models\n",
    "from enterprise_extensions.frequentist import optimal_statistic as opt_stat\n",
    "\n",
    "from h5pulsar.pulsar import FilePulsar\n",
    "from la_forge import core\n",
    "\n",
    "from optimal_statistic_covariances import OS, full_lstsq_recovery\n",
    "\n",
    "IN_COLAB = 'google.colab' in sys.modules"
   ]
  },
  {
   "cell_type": "markdown",
   "metadata": {},
   "source": [
    "## Load pulsar data"
   ]
  },
  {
   "cell_type": "code",
   "execution_count": null,
   "metadata": {},
   "outputs": [],
   "source": [
    "if IN_COLAB:\n",
    "    datadir = '/content/12p5yr_stochastic_analysis/tutorials/data'\n",
    "else:\n",
    "    datadir = './data'"
   ]
  },
  {
   "cell_type": "code",
   "execution_count": null,
   "metadata": {},
   "outputs": [],
   "source": [
    "psrs = []\n",
    "for hdf5_file in glob.glob(datadir + '/hdf5/*.hdf5'):\n",
    "    psrs.append(FilePulsar(hdf5_file))\n",
    "print('Loaded {0} pulsars from hdf5 files'.format(len(psrs)))"
   ]
  },
  {
   "cell_type": "code",
   "execution_count": null,
   "metadata": {},
   "outputs": [],
   "source": [
    "## Get parameter noise dictionary\n",
    "noise_ng15 = datadir + '/15yr_wn_dict.json'\n",
    "\n",
    "wn_params = {}\n",
    "with open(noise_ng15, 'r') as fp:\n",
    "    wn_params.update(json.load(fp))"
   ]
  },
  {
   "cell_type": "markdown",
   "metadata": {},
   "source": [
    "### Use `enterprise_extensions` to make a model with a common uncorrelated red noise process"
   ]
  },
  {
   "cell_type": "code",
   "execution_count": null,
   "metadata": {},
   "outputs": [],
   "source": [
    "# (Note: It will take a few minutes to run this cell and may require at least ~4GB RAM)\n",
    "# This will NOT work if we use tm_marg=True, so we don't use it here.\n",
    "pta = models.model_2a(psrs, noisedict=wn_params, n_gwbfreqs=14, tm_svd=True)"
   ]
  },
  {
   "cell_type": "markdown",
   "metadata": {},
   "source": [
    "### Initialize the optimal statistic object"
   ]
  },
  {
   "cell_type": "code",
   "execution_count": null,
   "metadata": {},
   "outputs": [],
   "source": [
    "os = opt_stat.OptimalStatistic(psrs, bayesephem=False, noisedict=wn_params, pta=pta)"
   ]
  },
  {
   "cell_type": "markdown",
   "metadata": {},
   "source": [
    "In order to compute the OS, we have to specify values for the pulsars' red noise parameters. We can either choose a single set of parameters (e.g., the maximum-likelihood parameters), or we can marginalize over the pulsars' red noise parameters by computing the OS many times using red noise parameters drawn from posterior samples from a Bayesian analysis. Here we do the noise-marginalized version."
   ]
  },
  {
   "cell_type": "code",
   "execution_count": null,
   "metadata": {},
   "outputs": [],
   "source": [
    "# load posterior samples for the pulsars' red noise\n",
    "curn_core = core.Core(corepath='./presampled_cores/curn_14f_pl_vg.core')"
   ]
  },
  {
   "cell_type": "code",
   "execution_count": null,
   "metadata": {},
   "outputs": [],
   "source": [
    "# this will take ~an hour to run if you do it yourself\n",
    "# the option N sets the number of noise realizations to use\n",
    "# the warning here is because this chain contains an extra \"nmodel\" parameter (you can ignore it)\n",
    "xi, rho, sig, A, SNR = os.compute_noise_marginalized_os(curn_core.chain, curn_core.params, N=10000)"
   ]
  },
  {
   "cell_type": "markdown",
   "metadata": {},
   "source": [
    "We use the signal-to-noise ratio (SNR) as our detection statistic. It is the optimal statistic amplitude divided by its uncertainty."
   ]
  },
  {
   "cell_type": "code",
   "execution_count": null,
   "metadata": {},
   "outputs": [],
   "source": [
    "plt.clf()\n",
    "plt.hist(SNR, bins=30, alpha=0.5, density=True)\n",
    "plt.ylabel('PDF')\n",
    "plt.xlabel('Signal to Noise Ratio')\n",
    "plt.show()"
   ]
  },
  {
   "cell_type": "markdown",
   "metadata": {},
   "source": [
    "The original OS assumes a single correlation component. This means we can search for one correlation at a time, e.g.,\n",
    "  * monopolar correlations, such as those that may come from clock corrections\n",
    "  * dipolar correlations, such as those that may come from ephemeris modeling errors\n",
    "  * or HD correlations, such as those created by a stochastic gravitational wave background\n",
    "\n",
    "If we want to search for all of these simultaneously to prevent leakage from one component into another, we need to use the multiple component OS (MCOS) and search for all three of these together."
   ]
  },
  {
   "cell_type": "code",
   "execution_count": null,
   "metadata": {},
   "outputs": [],
   "source": [
    "# this will take ~an hour to run if you do it yourself\n",
    "# the option N sets the number of noise realizations to use\n",
    "# the warning here is because this chain contains an extra \"nmodel\" parameter (you can ignore it)\n",
    "xi, rho, sig, A, A_err = os.compute_noise_marginalized_multiple_corr_os(curn_core.chain, \n",
    "                                                                        curn_core.params, N=10000)\n",
    "SNR = A/A_err"
   ]
  },
  {
   "cell_type": "code",
   "execution_count": null,
   "metadata": {},
   "outputs": [],
   "source": [
    "plt.clf()\n",
    "counts_mon, edges_mon, __ = plt.hist(SNR[:, 0], bins=30, alpha=0.5, density=True, label='Monopole')\n",
    "plt.axvline(0.5*(edges_mon[np.argmax(counts_mon) + 1] + edges_mon[np.argmax(counts_mon)]), \n",
    "            color='k', ls='--', alpha=0.5)\n",
    "counts_dip, edges_dip, __ = plt.hist(SNR[:, 1], bins=30, alpha=0.5, density=True, label='Dipole')\n",
    "plt.axvline(0.5*(edges_dip[np.argmax(counts_dip) + 1] + edges_dip[np.argmax(counts_dip)]), \n",
    "            color='k', ls='--', alpha=0.5)\n",
    "counts_hd, edges_hd, __ = plt.hist(SNR[:, 2], bins=30, alpha=0.5, density=True, label='Hellings and Downs')\n",
    "plt.axvline(0.5*(edges_hd[np.argmax(counts_hd) + 1] + edges_hd[np.argmax(counts_hd)]), \n",
    "            color='k', ls='--', alpha=0.5)\n",
    "plt.ylabel('PDF')\n",
    "plt.xlabel('Signal to Noise Ratio')\n",
    "plt.title('SNR Results from MCOS')\n",
    "plt.legend()\n",
    "plt.show()"
   ]
  },
  {
   "cell_type": "code",
   "execution_count": null,
   "metadata": {},
   "outputs": [],
   "source": []
  }
 ],
 "metadata": {
  "kernelspec": {
   "display_name": "Python 3 (ipykernel)",
   "language": "python",
   "name": "python3"
  },
  "language_info": {
   "codemirror_mode": {
    "name": "ipython",
    "version": 3
   },
   "file_extension": ".py",
   "mimetype": "text/x-python",
   "name": "python",
   "nbconvert_exporter": "python",
   "pygments_lexer": "ipython3",
   "version": "3.12.7"
  }
 },
 "nbformat": 4,
 "nbformat_minor": 4
}
